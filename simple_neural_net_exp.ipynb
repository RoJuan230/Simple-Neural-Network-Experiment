{
 "cells": [
  {
   "cell_type": "markdown",
   "metadata": {},
   "source": [
    "## Objective - Create Simple Neural Network"
   ]
  },
  {
   "cell_type": "markdown",
   "metadata": {},
   "source": [
    "#### import modules and prepare data"
   ]
  },
  {
   "cell_type": "code",
   "execution_count": 1,
   "metadata": {},
   "outputs": [
    {
     "name": "stdout",
     "output_type": "stream",
     "text": [
      "[-2. -1.  0.  1.  2.  3.  4.  5.  6.  7.  8.  9.] float64\n",
      "[-5. -3. -1.  1.  3.  5.  7.  9. 11. 13. 15. 17.] float64\n"
     ]
    }
   ],
   "source": [
    "# Import sklearn/tensorflow modules.\r\n",
    "import tensorflow as tf\r\n",
    "from sklearn.preprocessing import MinMaxScaler\r\n",
    "from tensorflow.keras.models import Sequential\r\n",
    "from tensorflow.keras.layers import Conv2D, MaxPooling2D, Dense, Flatten\r\n",
    "from tensorflow.keras.optimizers import SGD\r\n",
    "from tensorflow.keras.utils import to_categorical\r\n",
    "%matplotlib inline\r\n",
    "\r\n",
    "import matplotlib.pyplot as plt\r\n",
    "import pandas as pd\r\n",
    "import numpy as np\r\n",
    "\r\n",
    "# Create simple dataset.\r\n",
    "X_train = np.arange(-2, 10, dtype=float)\r\n",
    "y_train = ((X_train * 2) - 1).astype(float)\r\n",
    "\r\n",
    "# The rule is y = 2x - 1\r\n",
    "\r\n",
    "print(X_train, X_train.dtype)\r\n",
    "print(y_train, y_train.dtype)"
   ]
  },
  {
   "cell_type": "markdown",
   "metadata": {},
   "source": [
    "#### Create model"
   ]
  },
  {
   "cell_type": "code",
   "execution_count": 24,
   "metadata": {},
   "outputs": [
    {
     "name": "stdout",
     "output_type": "stream",
     "text": [
      "WARNING:tensorflow:11 out of the last 11 calls to <function Model.make_test_function.<locals>.test_function at 0x0000017EA27588B0> triggered tf.function retracing. Tracing is expensive and the excessive number of tracings could be due to (1) creating @tf.function repeatedly in a loop, (2) passing tensors with different shapes, (3) passing Python objects instead of tensors. For (1), please define your @tf.function outside of the loop. For (2), @tf.function has experimental_relax_shapes=True option that relaxes argument shapes that can avoid unnecessary retracing. For (3), please refer to https://www.tensorflow.org/tutorials/customization/performance#python_or_tensor_args and https://www.tensorflow.org/api_docs/python/tf/function for  more details.\n",
      "Loss: 0.01\n"
     ]
    }
   ],
   "source": [
    "def model():\r\n",
    "    model = Sequential()\r\n",
    "    model.add(Dense(units=1, input_shape=[1]))\r\n",
    "    model.compile(optimizer='sgd', loss='mean_squared_error')\r\n",
    "    return model\r\n",
    "\r\n",
    "model = model()\r\n",
    "\r\n",
    "model.fit(X_train, y_train, epochs=200, verbose=False)    # NOTE: epochs are increased because of limited data.\r\n",
    "\r\n",
    "print('Loss: {:.2f}'.format(model.evaluate(X_train, y_train, verbose=False)))"
   ]
  },
  {
   "cell_type": "markdown",
   "metadata": {},
   "source": [
    "#### Test model"
   ]
  },
  {
   "cell_type": "code",
   "execution_count": 28,
   "metadata": {},
   "outputs": [
    {
     "name": "stdout",
     "output_type": "stream",
     "text": [
      "[16 31] ✔️\n",
      "[ 9 17] ✔️\n",
      "[5 9] ✔️\n",
      "[15 29] ✔️\n"
     ]
    }
   ],
   "source": [
    "def test():\r\n",
    "    for i in range(4):\r\n",
    "        random_num = np.random.randint(-4, 20)\r\n",
    "        pred = model.predict([random_num])[0][0]\r\n",
    "\r\n",
    "        if round(pred) == random_num * 2 - 1:\r\n",
    "            output = '✔️'\r\n",
    "        else:\r\n",
    "            output = '❌'\r\n",
    "\r\n",
    "        print(np.array([random_num, round(pred)]), output)\r\n",
    "\r\n",
    "test()"
   ]
  }
 ],
 "metadata": {
  "kernelspec": {
   "display_name": "Python 3.8.5 64-bit (conda)",
   "metadata": {
    "interpreter": {
     "hash": "b3484043eee5ff5607422914000474778a896e23428dfc35313a8be46de07a70"
    }
   },
   "name": "python3"
  },
  "language_info": {
   "codemirror_mode": {
    "name": "ipython",
    "version": 3
   },
   "file_extension": ".py",
   "mimetype": "text/x-python",
   "name": "python",
   "nbconvert_exporter": "python",
   "pygments_lexer": "ipython3",
   "version": "3.8.5"
  },
  "orig_nbformat": 2
 },
 "nbformat": 4,
 "nbformat_minor": 2
}