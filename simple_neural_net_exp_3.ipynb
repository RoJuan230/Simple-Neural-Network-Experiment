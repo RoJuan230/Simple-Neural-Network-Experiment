{
 "cells": [
  {
   "cell_type": "markdown",
   "metadata": {},
   "source": [
    "## Create Simple Neural Net to Predict Diabetes Diagnosis"
   ]
  },
  {
   "cell_type": "code",
   "execution_count": 59,
   "metadata": {},
   "outputs": [
    {
     "output_type": "stream",
     "name": "stdout",
     "text": [
      "X_train.shape (331, 10)\ny_train.shape (331,)\nX_test.shape (111, 10)\ny_test.shape (111,)\n"
     ]
    }
   ],
   "source": [
    "# Import tensorflow/sklearn modules.\n",
    "import tensorflow as tf\n",
    "from sklearn.datasets import load_diabetes\n",
    "from sklearn.preprocessing import MinMaxScaler\n",
    "from sklearn.model_selection import train_test_split\n",
    "from tensorflow.keras.models import Sequential\n",
    "from tensorflow.keras.layers import Dense\n",
    "\n",
    "# Import other modules.\n",
    "import matplotlib.pyplot as plt\n",
    "import pandas as pd\n",
    "import numpy as np\n",
    "%matplotlib inline\n",
    "\n",
    "dataset = load_diabetes()\n",
    "\n",
    "data = dataset.data\n",
    "target = dataset.target\n",
    "\n",
    "X_train, X_test, y_train, y_test = train_test_split(data, target, random_state=42)\n",
    "\n",
    "scaler = MinMaxScaler()\n",
    "X_train = scaler.fit_transform(X_train)\n",
    "X_test = scaler.transform(X_test)\n",
    "\n",
    "print(f'X_train.shape {X_train.shape}')\n",
    "print(f'y_train.shape {y_train.shape}')\n",
    "print(f'X_test.shape {X_test.shape}')\n",
    "print(f'y_test.shape {y_test.shape}')\n"
   ]
  },
  {
   "source": [
    "#### Create model"
   ],
   "cell_type": "markdown",
   "metadata": {}
  },
  {
   "cell_type": "code",
   "execution_count": 61,
   "metadata": {},
   "outputs": [
    {
     "output_type": "stream",
     "name": "stdout",
     "text": [
      "34864.11328125\n27812.7890625\n"
     ]
    }
   ],
   "source": [
    "def model():\n",
    "    model = Sequential()\n",
    "    model.add(Dense(50, input_shape=(10,)))\n",
    "    model.add(Dense(50))\n",
    "    model.add(Dense(50))\n",
    "    model.add(Dense(1, activation='sigmoid'))\n",
    "    \n",
    "    model.compile(optimizer='nadam', loss='mean_squared_error')\n",
    "    return model\n",
    "\n",
    "model = model()\n",
    "\n",
    "training = model.fit(\n",
    "        X_train, y_train,\n",
    "        epochs=12,\n",
    "        batch_size=16,\n",
    "        validation_split=.75,\n",
    "        verbose=False\n",
    "    ).history\n",
    "\n",
    "print(training['loss'][-1])\n",
    "print(training['val_loss'][-1])\n"
   ]
  }
 ],
 "metadata": {
  "kernelspec": {
   "name": "python3",
   "display_name": "Python 3.8.5 64-bit (conda)",
   "metadata": {
    "interpreter": {
     "hash": "b3484043eee5ff5607422914000474778a896e23428dfc35313a8be46de07a70"
    }
   }
  },
  "language_info": {
   "codemirror_mode": {
    "name": "ipython",
    "version": 3
   },
   "file_extension": ".py",
   "mimetype": "text/x-python",
   "name": "python",
   "nbconvert_exporter": "python",
   "pygments_lexer": "ipython3",
   "version": "3.8.5-final"
  },
  "orig_nbformat": 2
 },
 "nbformat": 4,
 "nbformat_minor": 2
}