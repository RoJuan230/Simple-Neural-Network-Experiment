{
 "cells": [
  {
   "cell_type": "markdown",
   "metadata": {},
   "source": [
    "## Create Simple Neural Net to Predict Diabetes Diagnosis"
   ]
  },
  {
   "cell_type": "code",
   "execution_count": 77,
   "metadata": {},
   "outputs": [
    {
     "output_type": "stream",
     "name": "stdout",
     "text": [
      "X_train.shape (331, 10)\ny_train.shape (331,)\nX_test.shape (111, 10)\ny_test.shape (111,)\n"
     ]
    }
   ],
   "source": [
    "# Import tensorflow/sklearn modules.\n",
    "import tensorflow as tf\n",
    "from sklearn.datasets import load_diabetes\n",
    "from sklearn.preprocessing import MinMaxScaler\n",
    "from sklearn.model_selection import train_test_split\n",
    "from tensorflow.keras.models import Sequential\n",
    "from tensorflow.keras.layers import Dense\n",
    "\n",
    "# Import other modules.\n",
    "import matplotlib.pyplot as plt\n",
    "import pandas as pd\n",
    "import numpy as np\n",
    "%matplotlib inline\n",
    "\n",
    "dataset = load_diabetes()\n",
    "\n",
    "data = dataset.data\n",
    "target = dataset.target\n",
    "\n",
    "X_train, X_test, y_train, y_test = train_test_split(data, target, random_state=42)\n",
    "\n",
    "print(f'X_train.shape {X_train.shape}')\n",
    "print(f'y_train.shape {y_train.shape}')\n",
    "print(f'X_test.shape {X_test.shape}')\n",
    "print(f'y_test.shape {y_test.shape}')\n"
   ]
  },
  {
   "source": [
    "#### Create model"
   ],
   "cell_type": "markdown",
   "metadata": {}
  },
  {
   "cell_type": "code",
   "execution_count": 104,
   "metadata": {},
   "outputs": [
    {
     "output_type": "stream",
     "name": "stdout",
     "text": [
      "Training loss by epochs: [35134.71484375, 6487.5205078125, 6634.56689453125]\nValidataion loss by epochs: [27838.306640625, 6785.8759765625, 5508.08642578125]\n"
     ]
    }
   ],
   "source": [
    "def model():\n",
    "    model = Sequential()\n",
    "    model.add(Dense(1, input_shape=[10]))\n",
    "    model.add(Dense(25, kernel_regularizer='l2'))\n",
    "    model.compile(optimizer='sgd', loss='mean_squared_error')\n",
    "    return model\n",
    "\n",
    "model = model()\n",
    "\n",
    "tf.random.set_seed(42)    # Create random seed for repeatable results.\n",
    "\n",
    "training = (\n",
    "    model.fit(\n",
    "        X_train, y_train,\n",
    "        epochs=12,\n",
    "        batch_size=24,\n",
    "        validation_split=.75,\n",
    "        verbose=False\n",
    "    )\n",
    ").history\n",
    "\n",
    "print('Training loss by epochs: {}'.format(training['loss'][::4]))\n",
    "print('Validataion loss by epochs: {}'.format(training['val_loss'][::4]))\n"
   ]
  }
 ],
 "metadata": {
  "kernelspec": {
   "name": "python3",
   "display_name": "Python 3.8.5 64-bit (conda)",
   "metadata": {
    "interpreter": {
     "hash": "b3484043eee5ff5607422914000474778a896e23428dfc35313a8be46de07a70"
    }
   }
  },
  "language_info": {
   "codemirror_mode": {
    "name": "ipython",
    "version": 3
   },
   "file_extension": ".py",
   "mimetype": "text/x-python",
   "name": "python",
   "nbconvert_exporter": "python",
   "pygments_lexer": "ipython3",
   "version": "3.8.5-final"
  },
  "orig_nbformat": 2
 },
 "nbformat": 4,
 "nbformat_minor": 2
}